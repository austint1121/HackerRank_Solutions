{
 "cells": [
  {
   "cell_type": "markdown",
   "source": [
    "# [Hackerrank-RansomNote](https://www.hackerrank.com/challenges/ctci-ransom-note/problem?isFullScreen=true&h_l=interview&playlist_slugs%5B%5D=interview-preparation-kit&playlist_slugs%5B%5D=dictionaries-hashmaps)\n",
    "Harold is a kidnapper who wrote a ransom note, but now he is worried it will be traced back to him through his handwriting. He found a magazine and wants to know if he can cut out whole words from it and use them to create an untraceable replica of his ransom note. The words in his note are case-sensitive and he must use only whole words available in the magazine. He cannot use substrings or concatenation to create the words he needs.\n",
    "\n",
    "Given the words in the magazine and the words in the ransom note, print Yes if he can replicate his ransom note exactly using whole words from the magazine; otherwise, print No."
   ],
   "metadata": {
    "collapsed": false,
    "pycharm": {
     "name": "#%% md\n"
    }
   }
  },
  {
   "cell_type": "code",
   "execution_count": 12,
   "outputs": [],
   "source": [
    "#\n",
    "# Complete the 'checkMagazine' function below.\n",
    "#\n",
    "# The function accepts following parameters:\n",
    "#  1. STRING_ARRAY magazine\n",
    "#  2. STRING_ARRAY note\n",
    "#\n",
    "\n",
    "def checkMagazine(magazine, note):\n",
    "    words = {}\n",
    "    # Place all words into dictionary with the count of occurrences.\n",
    "    for items in magazine:\n",
    "        words.setdefault(items, 0)\n",
    "        words[items] += 1\n",
    "    # Go through words needed for note.\n",
    "    for word in note:\n",
    "        target = words.get(word, False)\n",
    "        # If the word was found, and it has at least 1 occurrence remaining, continue and subtract 1\n",
    "        if target and target > 0:\n",
    "            words[word] -= 1\n",
    "        # Stop the process early if word not found or out of occurrences.\n",
    "        else:\n",
    "            print('No')\n",
    "            return False\n",
    "    print('Yes')\n",
    "    return True\n",
    "\n",
    "\n",
    "\n"
   ],
   "metadata": {
    "collapsed": false,
    "pycharm": {
     "name": "#%%\n"
    }
   }
  },
  {
   "cell_type": "code",
   "execution_count": 13,
   "outputs": [],
   "source": [
    "mag = 'two times three is not four'.rstrip().split()\n",
    "note = 'two times two is four'.rstrip().split()"
   ],
   "metadata": {
    "collapsed": false,
    "pycharm": {
     "name": "#%%\n"
    }
   }
  },
  {
   "cell_type": "code",
   "execution_count": 14,
   "outputs": [
    {
     "data": {
      "text/plain": "False"
     },
     "execution_count": 14,
     "metadata": {},
     "output_type": "execute_result"
    }
   ],
   "source": [
    "checkMagazine(mag, note)"
   ],
   "metadata": {
    "collapsed": false,
    "pycharm": {
     "name": "#%%\n"
    }
   }
  },
  {
   "cell_type": "markdown",
   "source": [],
   "metadata": {
    "collapsed": false,
    "pycharm": {
     "name": "#%% md\n"
    }
   }
  }
 ],
 "metadata": {
  "kernelspec": {
   "display_name": "Python 3",
   "language": "python",
   "name": "python3"
  },
  "language_info": {
   "codemirror_mode": {
    "name": "ipython",
    "version": 2
   },
   "file_extension": ".py",
   "mimetype": "text/x-python",
   "name": "python",
   "nbconvert_exporter": "python",
   "pygments_lexer": "ipython2",
   "version": "2.7.6"
  }
 },
 "nbformat": 4,
 "nbformat_minor": 0
}